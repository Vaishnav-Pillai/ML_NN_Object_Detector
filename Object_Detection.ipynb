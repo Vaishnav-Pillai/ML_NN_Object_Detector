{
  "nbformat": 4,
  "nbformat_minor": 0,
  "metadata": {
    "colab": {
      "provenance": [],
      "authorship_tag": "ABX9TyOEIkxJzJKxJWyS1GoIwXaA",
      "include_colab_link": true
    },
    "kernelspec": {
      "name": "python3",
      "display_name": "Python 3"
    },
    "language_info": {
      "name": "python"
    }
  },
  "cells": [
    {
      "cell_type": "markdown",
      "metadata": {
        "id": "view-in-github",
        "colab_type": "text"
      },
      "source": [
        "<a href=\"https://colab.research.google.com/github/Vaishnav-Pillai/ML_NN_Object_Detector/blob/main/Object_Detection.ipynb\" target=\"_parent\"><img src=\"https://colab.research.google.com/assets/colab-badge.svg\" alt=\"Open In Colab\"/></a>"
      ]
    },
    {
      "cell_type": "code",
      "execution_count": null,
      "metadata": {
        "id": "0cmGw9n8mvd0"
      },
      "outputs": [],
      "source": [
        "!pip install opencv-python"
      ]
    },
    {
      "cell_type": "code",
      "source": [
        "!pip install scikit-image"
      ],
      "metadata": {
        "id": "MxdpIrKypH63"
      },
      "execution_count": null,
      "outputs": []
    },
    {
      "cell_type": "code",
      "source": [
        "!pip install pillow"
      ],
      "metadata": {
        "id": "rRUMMVUipWe3"
      },
      "execution_count": null,
      "outputs": []
    },
    {
      "cell_type": "code",
      "source": [
        "!pip install pixellib"
      ],
      "metadata": {
        "id": "H4kjT0Dbpbrz"
      },
      "execution_count": null,
      "outputs": []
    },
    {
      "cell_type": "code",
      "source": [
        "!pip install tensorflow"
      ],
      "metadata": {
        "id": "UTEtDnnPpgn2"
      },
      "execution_count": null,
      "outputs": []
    },
    {
      "cell_type": "code",
      "source": [
        "import pixellib\n",
        "from pixellib.instance import instance_segmentation"
      ],
      "metadata": {
        "id": "czTieL4hp1IV"
      },
      "execution_count": null,
      "outputs": []
    },
    {
      "cell_type": "code",
      "source": [
        "segment_image = instance_segmentation()"
      ],
      "metadata": {
        "id": "bQ-XXbLGynos"
      },
      "execution_count": null,
      "outputs": []
    },
    {
      "cell_type": "code",
      "source": [
        "!ls"
      ],
      "metadata": {
        "colab": {
          "base_uri": "https://localhost:8080/"
        },
        "id": "wOBiXyGDzX6I",
        "outputId": "f03229cf-a9f4-4750-c8ae-a0e0011d6da7"
      },
      "execution_count": null,
      "outputs": [
        {
          "output_type": "stream",
          "name": "stdout",
          "text": [
            "cycle.jpg  drive  mask_rcnn_coco.h5  sample_data\n"
          ]
        }
      ]
    },
    {
      "cell_type": "code",
      "source": [
        "segment_image.load_model(\"mask_rcnn_coco.h5\")"
      ],
      "metadata": {
        "id": "y4mUtAQnyuzM"
      },
      "execution_count": null,
      "outputs": []
    },
    {
      "cell_type": "code",
      "source": [
        "segment_image.segmentImage(\"cycle.jpg\", show_bboxes = True, output_image_name = \"output2.jpg\")"
      ],
      "metadata": {
        "colab": {
          "base_uri": "https://localhost:8080/"
        },
        "id": "0Hce4z6ay_Xr",
        "outputId": "cada2751-f910-499b-c13d-2d593f4edbeb"
      },
      "execution_count": 18,
      "outputs": [
        {
          "output_type": "stream",
          "name": "stdout",
          "text": [
            "Processed image saved successfully in your current working directory.\n"
          ]
        },
        {
          "output_type": "execute_result",
          "data": {
            "text/plain": [
              "({'rois': array([[ 193,  602,  194,  612],\n",
              "         [   0,  999,    1, 1000],\n",
              "         [   0,  999,    1, 1000],\n",
              "         [   0,  999,    1, 1000],\n",
              "         [   0,  999,    1, 1000],\n",
              "         [   0,  999,    1, 1000],\n",
              "         [   0,  999,    1, 1000],\n",
              "         [   0,  999,    1, 1000],\n",
              "         [   0,  999,    1, 1000],\n",
              "         [   0,  999,    1, 1000],\n",
              "         [ 170,  997,  237, 1000],\n",
              "         [   0,  999,    1, 1000],\n",
              "         [ 198,  583,  199,  587],\n",
              "         [ 197,  871,  198,  885],\n",
              "         [  28,    0,   44,   72],\n",
              "         [   0,  298,  324,  303],\n",
              "         [ 169,  955,  191,  965],\n",
              "         [ 126,  943,  157,  997],\n",
              "         [ 191,  584,  192,  592],\n",
              "         [   0,  999,    1, 1000],\n",
              "         [   0,  999,    1, 1000],\n",
              "         [  13,  995,   34, 1000],\n",
              "         [ 254,    0,  259,   11],\n",
              "         [ 107,  471,  109,  474],\n",
              "         [ 164,  999,  172, 1000],\n",
              "         [   0,  999,    1, 1000],\n",
              "         [   0,  999,    1, 1000],\n",
              "         [   7,  999,   19, 1000],\n",
              "         [   0,    6,  131,    7],\n",
              "         [  65,  999,   85, 1000],\n",
              "         [ 177,  287,  214,  304],\n",
              "         [   0,  999,    1, 1000],\n",
              "         [ 173,  999,  195, 1000],\n",
              "         [   0,  999,    1, 1000],\n",
              "         [ 166,  136,  167,  148],\n",
              "         [  91,  959,  112,  980],\n",
              "         [ 134,  999,  165, 1000],\n",
              "         [   8,  999,   47, 1000],\n",
              "         [ 194,  710,  196,  716],\n",
              "         [   0,    9,    1,   11],\n",
              "         [ 192,  863,  193,  868],\n",
              "         [  85,  999,  110, 1000],\n",
              "         [ 200,  594,  201,  599],\n",
              "         [ 200,    0,  216,   22],\n",
              "         [  20,  201,  319,  267],\n",
              "         [ 192,  569,  193,  575],\n",
              "         [ 201,  844,  202,  848],\n",
              "         [   0,    7,    1,   11],\n",
              "         [ 205,  458,  206,  463],\n",
              "         [   0,    4,    1,    6],\n",
              "         [ 127,  580,  128,  650],\n",
              "         [ 134,  527,  142,  530],\n",
              "         [  43,  324,   44,  368],\n",
              "         [ 115,  984,  146, 1000],\n",
              "         [  96,  999,  111, 1000],\n",
              "         [   0,  999,   12, 1000],\n",
              "         [   0,   10,   11,   12],\n",
              "         [ 204,  429,  205,  435],\n",
              "         [ 119,  953,  141,  982],\n",
              "         [   0,    0,  550,    1],\n",
              "         [ 121,  230,  122,  238],\n",
              "         [  43,  978,   63, 1000],\n",
              "         [ 204,  497,  205,  504],\n",
              "         [ 207,  475,  209,  478],\n",
              "         [ 202,  468,  203,  474],\n",
              "         [ 163,  731,  164,  757],\n",
              "         [   0,   11,   97,   12],\n",
              "         [ 129,  997,  152, 1000],\n",
              "         [ 110,  465,  112,  466],\n",
              "         [  34,   70,   42,   90],\n",
              "         [ 156,  999,  166, 1000],\n",
              "         [ 186,  746,  187,  754],\n",
              "         [ 127,  475,  128,  477],\n",
              "         [ 138,  986,  154, 1000],\n",
              "         [ 204,  596,  205,  601],\n",
              "         [   0,    4,    1,    8],\n",
              "         [  21,  999,   48, 1000],\n",
              "         [ 208,    0,  223,   19],\n",
              "         [ 160,  405,  161,  408],\n",
              "         [   0,    0,  550,    1],\n",
              "         [   0,    7,    1,   11],\n",
              "         [   0,  999,    1, 1000],\n",
              "         [   0,    7,    1,   11],\n",
              "         [ 201,  818,  202,  821],\n",
              "         [  54,  980,   77,  990],\n",
              "         [   0,    0,  550,    1],\n",
              "         [   0,    7,    1,   11],\n",
              "         [ 132,  904,  148,  953],\n",
              "         [ 192,  396,  193,  513],\n",
              "         [ 206,  800,  207,  803],\n",
              "         [ 199,  875,  200,  894],\n",
              "         [   0,    4,    1,    5],\n",
              "         [   0,   11,    1,   13],\n",
              "         [   0,    0,  550, 1000],\n",
              "         [  22,    0,   27,   28],\n",
              "         [ 157,  347,  158,  359],\n",
              "         [   0,  999,    1, 1000],\n",
              "         [  46,  159,  159,  187],\n",
              "         [ 213,  587,  274,  613],\n",
              "         [ 170,  468,  171,  472]], dtype=int32),\n",
              "  'class_ids': array([ 4,  5,  5,  5,  5,  5,  5,  5,  5,  5,  5,  5,  4,  4, 54, 59,  5,\n",
              "          5,  4,  5,  5,  5, 54,  4,  5,  5,  5,  5, 21,  5, 59,  5,  5,  5,\n",
              "          4,  5,  5,  5,  4, 21,  4,  5,  4, 54, 59,  4,  4, 21,  4, 21,  4,\n",
              "          5,  4,  5,  5,  5, 21,  4,  5, 75,  4,  5,  4,  4,  4,  4, 21,  5,\n",
              "          4, 54,  5,  4,  4,  5,  4, 21,  5, 54,  4, 75, 21,  5, 21,  4,  5,\n",
              "         75, 21,  5, 56,  4,  4, 21, 21, 57, 54,  4,  5, 54, 54,  4],\n",
              "        dtype=int32),\n",
              "  'scores': array([0.9999996 , 0.999994  , 0.9999935 , 0.9999922 , 0.9999915 ,\n",
              "         0.9999679 , 0.99996465, 0.9999488 , 0.9999427 , 0.9999346 ,\n",
              "         0.999927  , 0.999921  , 0.99987173, 0.9998696 , 0.9998572 ,\n",
              "         0.9998374 , 0.9998336 , 0.99977803, 0.99975395, 0.9997314 ,\n",
              "         0.99971545, 0.99970853, 0.9995534 , 0.9994883 , 0.99945915,\n",
              "         0.99945533, 0.9993974 , 0.9993476 , 0.99927235, 0.9992503 ,\n",
              "         0.9992172 , 0.9990491 , 0.99902695, 0.9990215 , 0.998841  ,\n",
              "         0.99882597, 0.9987675 , 0.9987293 , 0.9987088 , 0.9986805 ,\n",
              "         0.9986763 , 0.9985783 , 0.9982785 , 0.9980694 , 0.99793094,\n",
              "         0.9979074 , 0.99790287, 0.99765253, 0.9976281 , 0.99760014,\n",
              "         0.9971103 , 0.9971064 , 0.997034  , 0.99694973, 0.9969285 ,\n",
              "         0.9968587 , 0.9968295 , 0.9966293 , 0.9966079 , 0.99642104,\n",
              "         0.9963924 , 0.9962702 , 0.99615353, 0.99607825, 0.9959251 ,\n",
              "         0.9957827 , 0.99568045, 0.9956796 , 0.99559677, 0.99546266,\n",
              "         0.9954071 , 0.9953091 , 0.9950355 , 0.9949876 , 0.9949315 ,\n",
              "         0.9948378 , 0.9947503 , 0.99452734, 0.99444413, 0.99435467,\n",
              "         0.9943487 , 0.99424297, 0.9939152 , 0.9939092 , 0.9938094 ,\n",
              "         0.99370074, 0.9933193 , 0.99320424, 0.9930899 , 0.99274725,\n",
              "         0.9924449 , 0.9924225 , 0.99235034, 0.99228823, 0.9921284 ,\n",
              "         0.99209124, 0.9919805 , 0.991886  , 0.99182796, 0.99162585],\n",
              "        dtype=float32),\n",
              "  'masks': array([[[False, False, False, ..., False, False, False],\n",
              "          [False, False, False, ..., False, False, False],\n",
              "          [False, False, False, ..., False, False, False],\n",
              "          ...,\n",
              "          [False, False, False, ..., False, False, False],\n",
              "          [False, False, False, ..., False, False, False],\n",
              "          [False, False, False, ..., False, False, False]],\n",
              "  \n",
              "         [[False, False, False, ..., False, False, False],\n",
              "          [False, False, False, ..., False, False, False],\n",
              "          [False, False, False, ..., False, False, False],\n",
              "          ...,\n",
              "          [False, False, False, ..., False, False, False],\n",
              "          [False, False, False, ..., False, False, False],\n",
              "          [False, False, False, ..., False, False, False]],\n",
              "  \n",
              "         [[False, False, False, ..., False, False, False],\n",
              "          [False, False, False, ..., False, False, False],\n",
              "          [False, False, False, ..., False, False, False],\n",
              "          ...,\n",
              "          [False, False, False, ..., False, False, False],\n",
              "          [False, False, False, ..., False, False, False],\n",
              "          [False, False, False, ..., False, False, False]],\n",
              "  \n",
              "         ...,\n",
              "  \n",
              "         [[False, False, False, ..., False, False, False],\n",
              "          [False, False, False, ..., False, False, False],\n",
              "          [False, False, False, ..., False, False, False],\n",
              "          ...,\n",
              "          [False, False, False, ..., False, False, False],\n",
              "          [False, False, False, ..., False, False, False],\n",
              "          [False, False, False, ..., False, False, False]],\n",
              "  \n",
              "         [[False, False, False, ..., False, False, False],\n",
              "          [False, False, False, ..., False, False, False],\n",
              "          [False, False, False, ..., False, False, False],\n",
              "          ...,\n",
              "          [False, False, False, ..., False, False, False],\n",
              "          [False, False, False, ..., False, False, False],\n",
              "          [False, False, False, ..., False, False, False]],\n",
              "  \n",
              "         [[False, False, False, ..., False, False, False],\n",
              "          [False, False, False, ..., False, False, False],\n",
              "          [False, False, False, ..., False, False, False],\n",
              "          ...,\n",
              "          [False, False, False, ..., False, False, False],\n",
              "          [False, False, False, ..., False, False, False],\n",
              "          [False, False, False, ..., False, False, False]]])},\n",
              " array([[[158, 255,   0],\n",
              "         [158, 255,   0],\n",
              "         [158, 255,   0],\n",
              "         ...,\n",
              "         [158, 255,   0],\n",
              "         [  0, 255, 132],\n",
              "         [  0, 255, 132]],\n",
              " \n",
              "        [[158, 255,   0],\n",
              "         [158, 255,   0],\n",
              "         [158, 255,   0],\n",
              "         ...,\n",
              "         [158, 255,   0],\n",
              "         [  0, 255, 132],\n",
              "         [  0, 255, 132]],\n",
              " \n",
              "        [[158, 255,   0],\n",
              "         [158, 255,   0],\n",
              "         [255, 229,   0],\n",
              "         ...,\n",
              "         [ 64, 117,  97],\n",
              "         [ 51, 255,   0],\n",
              "         [  0, 255, 132]],\n",
              " \n",
              "        ...,\n",
              " \n",
              "        [[158, 255,   0],\n",
              "         [158, 255,   0],\n",
              "         [255, 229,   0],\n",
              "         ...,\n",
              "         [ 87,  90,  94],\n",
              "         [ 89,  92,  96],\n",
              "         [158, 255,   0]],\n",
              " \n",
              "        [[158, 255,   0],\n",
              "         [158, 255,   0],\n",
              "         [255, 229,   0],\n",
              "         ...,\n",
              "         [ 88,  91,  95],\n",
              "         [ 87,  90,  94],\n",
              "         [158, 255,   0]],\n",
              " \n",
              "        [[158, 255,   0],\n",
              "         [158, 255,   0],\n",
              "         [158, 255,   0],\n",
              "         ...,\n",
              "         [158, 255,   0],\n",
              "         [158, 255,   0],\n",
              "         [158, 255,   0]]], dtype=uint8))"
            ]
          },
          "metadata": {},
          "execution_count": 18
        }
      ]
    },
    {
      "cell_type": "code",
      "source": [
        "pwd"
      ],
      "metadata": {
        "colab": {
          "base_uri": "https://localhost:8080/",
          "height": 36
        },
        "id": "Mi0VJb_H-FxD",
        "outputId": "3115df17-486a-4246-8635-fd4b050aad4b"
      },
      "execution_count": null,
      "outputs": [
        {
          "output_type": "execute_result",
          "data": {
            "text/plain": [
              "'/content'"
            ],
            "application/vnd.google.colaboratory.intrinsic+json": {
              "type": "string"
            }
          },
          "metadata": {},
          "execution_count": 16
        }
      ]
    },
    {
      "cell_type": "code",
      "source": [],
      "metadata": {
        "id": "ZX6Ecl87-aQ0"
      },
      "execution_count": null,
      "outputs": []
    }
  ]
}